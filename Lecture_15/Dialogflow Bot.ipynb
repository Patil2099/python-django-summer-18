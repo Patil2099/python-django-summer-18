{
 "cells": [
  {
   "cell_type": "code",
   "execution_count": 8,
   "metadata": {},
   "outputs": [],
   "source": [
    "import requests\n",
    "import json\n",
    "import pprint"
   ]
  },
  {
   "cell_type": "code",
   "execution_count": 2,
   "metadata": {},
   "outputs": [],
   "source": [
    "url = \"https://api.dialogflow.com/v1/query\"\n",
    "\n",
    "# GET YOUR OWN!\n",
    "ACCESS_TOKEN = 'aba3b88d498b415f8d6c71a25482b8e3'\n",
    "\n",
    "headers = {\n",
    "    \"Authorization\": \"Bearer {}\".format(ACCESS_TOKEN),\n",
    "    \"Content-Type\": \"application/json\"\n",
    "}"
   ]
  },
  {
   "cell_type": "code",
   "execution_count": 3,
   "metadata": {},
   "outputs": [],
   "source": [
    "query = \"i want news on USA\""
   ]
  },
  {
   "cell_type": "code",
   "execution_count": 10,
   "metadata": {},
   "outputs": [
    {
     "name": "stdout",
     "output_type": "stream",
     "text": [
      "{'id': 'd098f418-cda5-401d-b85b-472b8f60a848',\n",
      " 'lang': 'en',\n",
      " 'result': {'action': '',\n",
      "            'metadata': {'contexts': [],\n",
      "                         'inputContexts': [],\n",
      "                         'intentId': '2d71912f-c139-43cd-af10-1e2b48c29c66',\n",
      "                         'intentName': 'get_news',\n",
      "                         'isFallbackIntent': 'false',\n",
      "                         'outputContexts': [],\n",
      "                         'webhookForSlotFillingUsed': 'false',\n",
      "                         'webhookUsed': 'false'},\n",
      "            'parameters': {'country': 'USA', 'date-time': ''},\n",
      "            'resolvedQuery': 'i want news on USA',\n",
      "            'score': 1.0,\n",
      "            'source': 'agent',\n",
      "            'speech': 'Here goes your news !'},\n",
      " 'sessionId': '1',\n",
      " 'status': {'code': 200, 'errorType': 'success'},\n",
      " 'timestamp': '2018-07-29T11:20:35.909Z'}\n"
     ]
    }
   ],
   "source": [
    "data = {\n",
    "    \"query\": query,\n",
    "    \"sessionId\": 1,\n",
    "    \"lang\": \"en\"\n",
    "}\n",
    "\n",
    "r = requests.post(url, headers = headers, data = json.dumps(data))\n",
    "\n",
    "pprint.pprint(json.loads(r.content.decode('UTF-8')))"
   ]
  },
  {
   "cell_type": "code",
   "execution_count": null,
   "metadata": {},
   "outputs": [],
   "source": []
  }
 ],
 "metadata": {
  "kernelspec": {
   "display_name": "Python 3",
   "language": "python",
   "name": "python3"
  },
  "language_info": {
   "codemirror_mode": {
    "name": "ipython",
    "version": 3
   },
   "file_extension": ".py",
   "mimetype": "text/x-python",
   "name": "python",
   "nbconvert_exporter": "python",
   "pygments_lexer": "ipython3",
   "version": "3.6.3"
  }
 },
 "nbformat": 4,
 "nbformat_minor": 2
}
